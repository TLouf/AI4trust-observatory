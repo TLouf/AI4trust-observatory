{
 "cells": [
  {
   "cell_type": "code",
   "execution_count": 1,
   "id": "5576bb75",
   "metadata": {},
   "outputs": [],
   "source": [
    "import trino.dbapi\n",
    "import os \n",
    "import polars as pl\n",
    "import datetime as dt\n",
    "import matplotlib.pyplot as plt\n",
    "from tqdm import tqdm\n",
    "\n",
    "import ai4trust_observatory as obs"
   ]
  },
  {
   "cell_type": "code",
   "execution_count": 2,
   "id": "7d9ec8b6",
   "metadata": {},
   "outputs": [],
   "source": [
    "TRINO_HOST=os.environ.get(\"TRINO_HOST\")\n",
    "TRINO_USER=os.environ.get(\"TRINO_USER\")"
   ]
  },
  {
   "cell_type": "code",
   "execution_count": null,
   "id": "c88f024f",
   "metadata": {},
   "outputs": [
    {
     "data": {
      "text/plain": [
       "[['date', 'varchar', '', ''],\n",
       " ['forwards', 'bigint', '', ''],\n",
       " ['message_offset_id', 'bigint', '', ''],\n",
       " ['pinned', 'boolean', '', ''],\n",
       " ['legacy', 'boolean', '', ''],\n",
       " ['query_id', 'varchar', '', ''],\n",
       " ['noforwards', 'boolean', '', ''],\n",
       " ['data_owner', 'varchar', '', ''],\n",
       " ['out', 'boolean', '', ''],\n",
       " ['peer_id', 'bigint', '', ''],\n",
       " ['from_scheduled', 'boolean', '', ''],\n",
       " ['post', 'boolean', '', ''],\n",
       " ['edit_hide', 'boolean', '', ''],\n",
       " ['nr_replies', 'bigint', '', ''],\n",
       " ['id', 'bigint', '', ''],\n",
       " ['invert_media', 'boolean', '', ''],\n",
       " ['mentioned', 'boolean', '', ''],\n",
       " ['_timestamp', 'bigint', '', ''],\n",
       " ['text_urls', 'array(varchar)', '', ''],\n",
       " ['views', 'bigint', '', ''],\n",
       " ['peer_type', 'varchar', '', ''],\n",
       " ['silent', 'boolean', '', ''],\n",
       " ['_table', 'varchar', '', ''],\n",
       " ['media_unread', 'boolean', '', ''],\n",
       " ['other_reactions', 'bigint', '', ''],\n",
       " ['message', 'varchar', '', ''],\n",
       " ['has_comments', 'boolean', '', ''],\n",
       " ['query_date', 'varchar', '', ''],\n",
       " ['reactions',\n",
       "  'row(ROLLING_ON_THE_FLOOR_LAUGHING bigint, FACE_THROWING_A_KISS bigint, SQUARED_COOL bigint, SPOUTING_WHALE bigint, CRYING_FACE bigint, PARTY_POPPER bigint, SMILING_FACE_WITH_HORNS bigint, THUMBS_UP_SIGN bigint, FIRE bigint, SNOWMAN bigint, SEE-NO-EVIL_MONKEY bigint, HANDSHAKE bigint, YAWNING_FACE bigint, SLEEPING_FACE bigint, PILL bigint, REVERSED_HAND_WITH_MIDDLE_FINGER_EXTENDED bigint, SMILING_FACE_WITH_HEART-SHAPED_EYES bigint, NERD_FACE bigint, FACE_WITH_UNEVEN_EYES_AND_WAVY_MOUTH bigint, BOTTLE_WITH_POPPING_CORK bigint, CHRISTMAS_TREE bigint, CLAPPING_HANDS_SIGN bigint, SALUTING_FACE bigint, SHOCKED_FACE_WITH_EXPLODING_HEAD bigint, HUNDRED_POINTS_SYMBOL bigint, HEAVY_BLACK_HEART bigint, DOVE_OF_PEACE bigint, MAN bigint, BANANA bigint, MOYAI bigint, EYES bigint, GRINNING_FACE_WITH_ONE_LARGE_AND_ONE_SMALL_EYE bigint, CLOWN_FACE bigint, PILE_OF_POO bigint, KISS_MARK bigint, JACK-O-LANTERN bigint, NEUTRAL_FACE bigint, FACE_WITH_OPEN_MOUTH_VOMITING bigint, NEW_MOON_WITH_FACE bigint, SERIOUS_FACE_WITH_SYMBOLS_COVERING_MOUTH bigint, ALIEN_MONSTER bigint, FACE_SCREAMING_IN_FEAR bigint, TROPHY bigint, HOT_DOG bigint, SMILING_FACE_WITH_HALO bigint, POUTING_FACE bigint, PERSON_WITH_FOLDED_HANDS bigint, SHRUG bigint, FATHER_CHRISTMAS bigint, STRAWBERRY bigint, GHOST bigint, HEART_WITH_ARROW bigint, SMILING_FACE_WITH_SUNGLASSES bigint, LOUDLY_CRYING_FACE bigint, GRINNING_FACE_WITH_STAR_EYES bigint, SMILING_FACE_WITH_SMILING_EYES_AND_THREE_HEARTS bigint, THUMBS_DOWN_SIGN bigint, FACE_WITH_ONE_EYEBROW_RAISED bigint, BROKEN_HEART bigint, UNICORN_FACE bigint, THINKING_FACE bigint, WRITING_HAND bigint, GRINNING_FACE_WITH_SMILING_EYES bigint, FEARFUL_FACE bigint, HEAR-NO-EVIL_MONKEY bigint, HIGH_VOLTAGE_SIGN bigint, HUGGING_FACE bigint, SPEAK-NO-EVIL_MONKEY bigint, OK_HAND_SIGN bigint, NAIL_POLISH bigint)',\n",
       "  '',\n",
       "  ''],\n",
       " ['edit_date', 'varchar', '', ''],\n",
       " ['channel_id', 'bigint', '', ''],\n",
       " ['media_type', 'varchar', '', ''],\n",
       " ['media_id', 'bigint', '', ''],\n",
       " ['webpage_preview_url', 'varchar', '', ''],\n",
       " ['fwd_from_date', 'varchar', '', ''],\n",
       " ['fwd_from_id', 'bigint', '', ''],\n",
       " ['webpage_preview_site_name', 'varchar', '', ''],\n",
       " ['fwd_from_msg_id', 'bigint', '', ''],\n",
       " ['webpage_preview_title', 'varchar', '', ''],\n",
       " ['webpage_preview_type', 'varchar', '', ''],\n",
       " ['webpage_preview_description', 'varchar', '', ''],\n",
       " ['fwd_from_type', 'varchar', '', ''],\n",
       " ['text_mentions', 'array(varchar)', '', ''],\n",
       " ['replies_to_msg_id', 'bigint', '', ''],\n",
       " ['replies_to_chan_id', 'bigint', '', ''],\n",
       " ['replies_to_thread_msg_id', 'bigint', '', ''],\n",
       " ['via_bot_id', 'bigint', '', ''],\n",
       " ['from_type', 'varchar', '', ''],\n",
       " ['from_id', 'bigint', '', '']]"
      ]
     },
     "execution_count": 3,
     "metadata": {},
     "output_type": "execute_result"
    }
   ],
   "source": [
    "with trino.dbapi.connect(host=TRINO_HOST, user=TRINO_USER, catalog='iceberg') as conn:\n",
    "    cur = conn.cursor()\n",
    "    cur.execute('describe telegram.messages')\n",
    "    a = cur.description\n",
    "    schema = cur.fetchall()\n",
    "    cur.close()\n",
    "schema"
   ]
  },
  {
   "cell_type": "code",
   "execution_count": null,
   "id": "40e6d9d4",
   "metadata": {},
   "outputs": [],
   "source": [
    "eng_cols = [\"views\"]\n",
    "cols = [\"peer_id\", \"id\", \"message\", \"date\", 'media_id', 'media_type'] + eng_cols"
   ]
  },
  {
   "cell_type": "markdown",
   "id": "32a54a8c",
   "metadata": {},
   "source": [
    "views + keyword match"
   ]
  },
  {
   "cell_type": "code",
   "execution_count": 24,
   "id": "d52155b6",
   "metadata": {},
   "outputs": [],
   "source": [
    "query = \"select * from telegram.search_keywords\"\n",
    "keywords= obs.db_utils.df_from_db(query, catalog='db')"
   ]
  },
  {
   "cell_type": "code",
   "execution_count": 26,
   "id": "c09aa88c",
   "metadata": {},
   "outputs": [
    {
     "data": {
      "text/html": [
       "<div><style>\n",
       ".dataframe > thead > tr,\n",
       ".dataframe > tbody > tr {\n",
       "  text-align: right;\n",
       "  white-space: pre-wrap;\n",
       "}\n",
       "</style>\n",
       "<small>shape: (5, 5)</small><table border=\"1\" class=\"dataframe\"><thead><tr><th>keyword_id</th><th>keyword</th><th>lang</th><th>data_owner</th><th>topic</th></tr><tr><td>str</td><td>str</td><td>str</td><td>str</td><td>str</td></tr></thead><tbody><tr><td>&quot;274&quot;</td><td>&quot;vaccinations&quot;</td><td>&quot;English&quot;</td><td>&quot;FBK&quot;</td><td>&quot;PUBLIC HEALTH&quot;</td></tr><tr><td>&quot;275&quot;</td><td>&quot;vaccinate&quot;</td><td>&quot;English&quot;</td><td>&quot;FBK&quot;</td><td>&quot;PUBLIC HEALTH&quot;</td></tr><tr><td>&quot;276&quot;</td><td>&quot;vaccinates&quot;</td><td>&quot;English&quot;</td><td>&quot;FBK&quot;</td><td>&quot;PUBLIC HEALTH&quot;</td></tr><tr><td>&quot;277&quot;</td><td>&quot;vaccinated&quot;</td><td>&quot;English&quot;</td><td>&quot;FBK&quot;</td><td>&quot;PUBLIC HEALTH&quot;</td></tr><tr><td>&quot;278&quot;</td><td>&quot;vaccinating&quot;</td><td>&quot;English&quot;</td><td>&quot;FBK&quot;</td><td>&quot;PUBLIC HEALTH&quot;</td></tr></tbody></table></div>"
      ],
      "text/plain": [
       "shape: (5, 5)\n",
       "┌────────────┬──────────────┬─────────┬────────────┬───────────────┐\n",
       "│ keyword_id ┆ keyword      ┆ lang    ┆ data_owner ┆ topic         │\n",
       "│ ---        ┆ ---          ┆ ---     ┆ ---        ┆ ---           │\n",
       "│ str        ┆ str          ┆ str     ┆ str        ┆ str           │\n",
       "╞════════════╪══════════════╪═════════╪════════════╪═══════════════╡\n",
       "│ 274        ┆ vaccinations ┆ English ┆ FBK        ┆ PUBLIC HEALTH │\n",
       "│ 275        ┆ vaccinate    ┆ English ┆ FBK        ┆ PUBLIC HEALTH │\n",
       "│ 276        ┆ vaccinates   ┆ English ┆ FBK        ┆ PUBLIC HEALTH │\n",
       "│ 277        ┆ vaccinated   ┆ English ┆ FBK        ┆ PUBLIC HEALTH │\n",
       "│ 278        ┆ vaccinating  ┆ English ┆ FBK        ┆ PUBLIC HEALTH │\n",
       "└────────────┴──────────────┴─────────┴────────────┴───────────────┘"
      ]
     },
     "execution_count": 26,
     "metadata": {},
     "output_type": "execute_result"
    }
   ],
   "source": [
    "keywords.head()"
   ]
  },
  {
   "cell_type": "code",
   "execution_count": null,
   "id": "ccf13499",
   "metadata": {},
   "outputs": [],
   "source": [
    "dt_from = dt.date.today() - dt.timedelta(days=7)\n",
    "dt_to = dt_from + dt.timedelta(days=1)\n",
    "\n",
    "\n",
    "query = (\n",
    "        f\"select {', '.join(cols)} from telegram.messages\"\n",
    "        f\" where date > '{dt_from}' and date < '{dt_to}'\"\n",
    "    )\n",
    "prio_df = obs.db_utils.df_from_db(query, struct_cols=[\"reactions\"], infer_schema_length=None).filter(pl.col('message').str.contains_any(keywords['keyword'].implode())).with_columns(priority=pl.col('views') / pl.col('views').max())"
   ]
  },
  {
   "cell_type": "markdown",
   "id": "80f56000",
   "metadata": {},
   "source": [
    "include measure of channel centrality?"
   ]
  },
  {
   "cell_type": "code",
   "execution_count": null,
   "id": "2abf5627",
   "metadata": {},
   "outputs": [],
   "source": [
    "query = f\"select {', '.join(cols)} from telegram.messages limit 1\"\n",
    "df = obs.db_utils.df_from_db(query, struct_cols=[\"reactions\"], infer_schema_length=None)"
   ]
  },
  {
   "cell_type": "code",
   "execution_count": null,
   "id": "2e509fa1",
   "metadata": {},
   "outputs": [],
   "source": [
    "channel_id = df['peer_id'].item()"
   ]
  },
  {
   "cell_type": "code",
   "execution_count": null,
   "id": "9ad6262a",
   "metadata": {},
   "outputs": [],
   "source": [
    "query = f\"select destination as peer_id, count(*) as out_strength from telegram.channels_rels where destination={channel_id} group by destination\"\n",
    "chan_df = obs.db_utils.df_from_db(query, catalog='db')"
   ]
  },
  {
   "cell_type": "code",
   "execution_count": 6,
   "id": "d2e5031b",
   "metadata": {},
   "outputs": [
    {
     "data": {
      "text/html": [
       "<div><style>\n",
       ".dataframe > thead > tr,\n",
       ".dataframe > tbody > tr {\n",
       "  text-align: right;\n",
       "  white-space: pre-wrap;\n",
       "}\n",
       "</style>\n",
       "<small>shape: (1, 9)</small><table border=\"1\" class=\"dataframe\"><thead><tr><th>peer_id</th><th>id</th><th>date</th><th>text_urls</th><th>other_reactions</th><th>views</th><th>nr_replies</th><th>forwards</th><th>reactions</th></tr><tr><td>i64</td><td>i64</td><td>str</td><td>list[str]</td><td>i64</td><td>i64</td><td>i64</td><td>i64</td><td>struct[70]</td></tr></thead><tbody><tr><td>1316425018</td><td>3895</td><td>&quot;2025-01-07T12:07:30+00:00&quot;</td><td>[&quot;https://elpais.com/espana/2025-01-07/la-extrema-derecha-alcanza-el-16-de-estimacion-de-voto.html&quot;]</td><td>0</td><td>2196</td><td>0</td><td>4</td><td>{0,0,0,0,0,0,0,12,0,0,0,0,0,0,0,0,0,0,0,0,0,0,0,3,0,4,0,0,0,0,0,0,1,0,0,0,0,0,0,0,0,0,0,0,0,0,0,0,0,0,0,0,0,0,0,0,6,0,0,0,0,0,0,0,0,0,0,0,0,0}</td></tr></tbody></table></div>"
      ],
      "text/plain": [
       "shape: (1, 9)\n",
       "┌────────────┬──────┬──────────────┬─────────────┬───┬───────┬────────────┬──────────┬─────────────┐\n",
       "│ peer_id    ┆ id   ┆ date         ┆ text_urls   ┆ … ┆ views ┆ nr_replies ┆ forwards ┆ reactions   │\n",
       "│ ---        ┆ ---  ┆ ---          ┆ ---         ┆   ┆ ---   ┆ ---        ┆ ---      ┆ ---         │\n",
       "│ i64        ┆ i64  ┆ str          ┆ list[str]   ┆   ┆ i64   ┆ i64        ┆ i64      ┆ struct[70]  │\n",
       "╞════════════╪══════╪══════════════╪═════════════╪═══╪═══════╪════════════╪══════════╪═════════════╡\n",
       "│ 1316425018 ┆ 3895 ┆ 2025-01-07T1 ┆ [\"https://e ┆ … ┆ 2196  ┆ 0          ┆ 4        ┆ {0,0,0,0,0, │\n",
       "│            ┆      ┆ 2:07:30+00:0 ┆ lpais.com/e ┆   ┆       ┆            ┆          ┆ 0,0,12,0,0, │\n",
       "│            ┆      ┆ 0            ┆ spana/20…   ┆   ┆       ┆            ┆          ┆ 0,0,0,0,…   │\n",
       "└────────────┴──────┴──────────────┴─────────────┴───┴───────┴────────────┴──────────┴─────────────┘"
      ]
     },
     "execution_count": 6,
     "metadata": {},
     "output_type": "execute_result"
    }
   ],
   "source": [
    "df"
   ]
  }
 ],
 "metadata": {
  "kernelspec": {
   "display_name": "base",
   "language": "python",
   "name": "python3"
  },
  "language_info": {
   "codemirror_mode": {
    "name": "ipython",
    "version": 3
   },
   "file_extension": ".py",
   "mimetype": "text/x-python",
   "name": "python",
   "nbconvert_exporter": "python",
   "pygments_lexer": "ipython3",
   "version": "3.10.11"
  }
 },
 "nbformat": 4,
 "nbformat_minor": 5
}
