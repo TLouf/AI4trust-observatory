{
 "cells": [
  {
   "cell_type": "markdown",
   "id": "6e41302b-8fd4-41dc-b7ea-bc72103ea231",
   "metadata": {},
   "source": [
    "# Visualizations - Telegram"
   ]
  },
  {
   "cell_type": "code",
   "execution_count": null,
   "id": "a7d2b5b1",
   "metadata": {},
   "outputs": [],
   "source": [
    "%pip install trino==0.332.0 trino[sqlalchemy] seaborn polars"
   ]
  },
  {
   "cell_type": "markdown",
   "id": "f36e3d15-0e01-46dd-998b-0af38023f218",
   "metadata": {},
   "source": [
    "# Step 1 - Preliminary settings"
   ]
  },
  {
   "cell_type": "code",
   "execution_count": null,
   "id": "a65b2bbd",
   "metadata": {},
   "outputs": [],
   "source": [
    "import trino.dbapi\n",
    "import os \n",
    "import pandas as pd\n",
    "import polars as pl\n",
    "import datetime as dt\n",
    "import matplotlib.pyplot as plt"
   ]
  },
  {
   "cell_type": "code",
   "execution_count": null,
   "id": "865ab64e-f2eb-406d-a06a-4fbe234bc809",
   "metadata": {},
   "outputs": [],
   "source": [
    "TRINO_HOST=os.environ.get(\"TRINO_HOST\")\n",
    "TRINO_USER=os.environ.get(\"TRINO_USER\")"
   ]
  },
  {
   "cell_type": "code",
   "execution_count": null,
   "id": "1ee713d6",
   "metadata": {},
   "outputs": [],
   "source": [
    "def df_from_db(query, col_names=None, host=TRINO_HOST, user=TRINO_USER, catalog='iceberg', **df_kwargs):\n",
    "    with trino.dbapi.connect(host=host, user=user, catalog=catalog) as conn:\n",
    "        df = df_from_db_conn(query, conn, col_names, **df_kwargs)\n",
    "    return df\n",
    "\n",
    "def df_from_db_conn(query, conn, col_names=None, **df_kwargs):\n",
    "    cur = conn.cursor()\n",
    "    res = cur.execute(query).fetchall()\n",
    "    cur.close()\n",
    "    df = pl.DataFrame(res, orient='row', **df_kwargs)\n",
    "    if col_names is not None:\n",
    "        df = df.rename({f\"column_{i}\": c for i, c in enumerate(col_names)})\n",
    "    return df"
   ]
  },
  {
   "cell_type": "markdown",
   "id": "83285ef0",
   "metadata": {},
   "source": [
    "## Content reliability"
   ]
  },
  {
   "cell_type": "code",
   "execution_count": null,
   "id": "b18f4601",
   "metadata": {},
   "outputs": [],
   "source": [
    "query = \"select * from news.lasser_dq_scores\"\n",
    "domains = df_from_db(query, ['domain', 'reliability'], catalog='db')"
   ]
  },
  {
   "cell_type": "code",
   "execution_count": null,
   "id": "9b627c09",
   "metadata": {},
   "outputs": [],
   "source": [
    "dt_range = pl.datetime_range(dt.date(2025, 1, 1), dt.date.today() - dt.timedelta(days=2))\n",
    "\n",
    "query = \"\"\"\n",
    "with date_count as (\n",
    "    select id, cast(from_iso8601_timestamp(date) as DATE) as date\n",
    "    from telegram.messages\n",
    ")\n",
    "select date, count(*) from date_count group by date\n",
    "\"\"\"\n",
    "# select cast(from_iso8601_timestamp(date) as DATE) as date_only, count(*) from telegram.messages group by date_only\n",
    "df = df_from_db(query, ['date', 'message_count'])"
   ]
  },
  {
   "cell_type": "code",
   "execution_count": null,
   "id": "17d25719",
   "metadata": {},
   "outputs": [],
   "source": [
    "fig, ax = plt.subplots(figsize=(10, 6))\n",
    "ax.bar(x='date', height='message_count', data=df, color='skyblue')\n",
    "ax.set_xlabel('Date')\n",
    "ax.set_ylabel('Number of messages')\n",
    "fig.show()"
   ]
  },
  {
   "cell_type": "markdown",
   "id": "6829a479-bca9-4168-909e-19405df9001c",
   "metadata": {},
   "source": [
    "## Check tools output for TG"
   ]
  },
  {
   "cell_type": "code",
   "execution_count": null,
   "id": "d98a2876",
   "metadata": {},
   "outputs": [],
   "source": [
    "with trino.dbapi.connect(host=TRINO_HOST, user=TRINO_USER, catalog='iceberg') as dc_conn:\n",
    "    cur = dc_conn.cursor()\n",
    "    a = cur.execute(\"select * from tools.text_disinformation_signals_detection limit 5\").fetchall()"
   ]
  },
  {
   "cell_type": "code",
   "execution_count": null,
   "id": "a54b3416",
   "metadata": {},
   "outputs": [],
   "source": [
    "a[0][3][0]"
   ]
  }
 ],
 "metadata": {
  "kernelspec": {
   "display_name": "base",
   "language": "python",
   "name": "python3"
  },
  "language_info": {
   "codemirror_mode": {
    "name": "ipython",
    "version": 3
   },
   "file_extension": ".py",
   "mimetype": "text/x-python",
   "name": "python",
   "nbconvert_exporter": "python",
   "pygments_lexer": "ipython3"
  }
 },
 "nbformat": 4,
 "nbformat_minor": 5
}
